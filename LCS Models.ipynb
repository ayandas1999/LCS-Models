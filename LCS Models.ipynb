{
 "cells": [
  {
   "cell_type": "code",
   "execution_count": 1,
   "id": "68d9f70c",
   "metadata": {},
   "outputs": [],
   "source": [
    "#Import libraries\n",
    "\n",
    "import pandas as pd\n",
    "import numpy as np\n",
    "import matplotlib.pyplot as plt\n",
    "import seaborn as sns\n",
    "import scipy as sp\n",
    "from math import sqrt\n",
    "from sklearn.model_selection import train_test_split\n",
    "from sklearn.model_selection import cross_validate\n",
    "from sklearn.metrics import mean_squared_error, r2_score, mean_absolute_error\n",
    "import datetime"
   ]
  },
  {
   "cell_type": "code",
   "execution_count": 2,
   "id": "53ed139a",
   "metadata": {},
   "outputs": [],
   "source": [
    "#Splitting into train and test\n",
    "\n",
    "data = pd.read_csv('data.csv')\n",
    "train, test = train_test_split(data, test_size = 0.3, random_state = 42)\n",
    "train.to_csv('train.csv', index=False)\n",
    "test.to_csv('test.csv', index=False)\n"
   ]
  },
  {
   "cell_type": "code",
   "execution_count": 3,
   "id": "907ec02a",
   "metadata": {},
   "outputs": [],
   "source": [
    "#Load data\n",
    "\n",
    "data_train = pd.read_csv('train.csv')\n",
    "X_train = data_train[['PM2.5_LCS', 'RH', 'Temp']].values\n",
    "Y_train = data_train['PM2.5_Ref'].values\n",
    "\n",
    "data_test = pd.read_csv('test.csv')\n",
    "X_test = data_test[['PM2.5_LCS', 'RH', 'Temp']].values\n",
    "Y_test = data_test['PM2.5_Ref'].values\n",
    "\n",
    "data_new = pd.read_csv('data_new.csv')"
   ]
  },
  {
   "cell_type": "markdown",
   "id": "3c34504d",
   "metadata": {},
   "source": [
    "# Run Different Models"
   ]
  },
  {
   "cell_type": "markdown",
   "id": "977fe2ad",
   "metadata": {},
   "source": [
    "# LINEAR REGRESSION"
   ]
  },
  {
   "cell_type": "code",
   "execution_count": 4,
   "id": "ae1fe9a7",
   "metadata": {},
   "outputs": [
    {
     "name": "stdout",
     "output_type": "stream",
     "text": [
      "LR Train score:  0.5521730624305887\n",
      "LR Test score:  0.5572842746432795\n",
      "LR R2:  0.5572842746432795\n",
      "LR RMSE:  15.731027924690409\n",
      "LR MAE:  12.090095588182086\n"
     ]
    }
   ],
   "source": [
    "from sklearn.linear_model import LinearRegression\n",
    "LR = LinearRegression()\n",
    "LR.fit(X_train, Y_train.ravel())\n",
    "print('LR Train score: ', LR.score(X_train,Y_train))\n",
    "print('LR Test score: ', LR.score(X_test,Y_test))\n",
    "y_pred_LR = LR.predict(X_test)\n",
    "\n",
    "print('LR R2: ', r2_score(Y_test, y_pred_LR))\n",
    "print('LR RMSE: ', sqrt(mean_squared_error(Y_test, y_pred_LR)))\n",
    "print('LR MAE: ', mean_absolute_error(Y_test, y_pred_LR))\n",
    "\n",
    "data_new['pred'] = y_pred_LR\n",
    "data_new.to_csv('LR.csv')"
   ]
  },
  {
   "cell_type": "markdown",
   "id": "dae62ac2",
   "metadata": {},
   "source": [
    "# SUPPORT VECTOR REGRESSION"
   ]
  },
  {
   "cell_type": "code",
   "execution_count": 7,
   "id": "48d02b09",
   "metadata": {},
   "outputs": [
    {
     "name": "stdout",
     "output_type": "stream",
     "text": [
      "SVR Train score:  0.5419372886908592\n",
      "SVR Test score:  0.5462972823397332\n",
      "SVR R2:  0.5462972823397332\n",
      "SVR RMSE:  15.925032161372261\n",
      "SVR MAE:  11.903928633479136\n"
     ]
    }
   ],
   "source": [
    "from sklearn.svm import SVR\n",
    "svr_lin = SVR(kernel = 'linear')\n",
    "svr_lin.fit(X_train, Y_train.ravel())\n",
    "print('SVR Train score: ', svr_lin.score(X_train,Y_train))\n",
    "print('SVR Test score: ', svr_lin.score(X_test,Y_test)) \n",
    "y_pred_SVR_Line = svr_lin.predict(X_test)\n",
    "\n",
    "print('SVR R2: ', r2_score(Y_test, y_pred_SVR_Line))\n",
    "print('SVR RMSE: ', sqrt(mean_squared_error(Y_test, y_pred_SVR_Line)))\n",
    "print('SVR MAE: ', mean_absolute_error(Y_test, y_pred_SVR_Line))\n",
    "\n",
    "data_new['pred'] = y_pred_SVR_Line\n",
    "data_new.to_csv('SVR_Line.csv')"
   ]
  },
  {
   "cell_type": "markdown",
   "id": "70a0c137",
   "metadata": {},
   "source": [
    "# DECISION TREE REGRESSION"
   ]
  },
  {
   "cell_type": "code",
   "execution_count": 8,
   "id": "41ffe166",
   "metadata": {},
   "outputs": [
    {
     "name": "stdout",
     "output_type": "stream",
     "text": [
      "Decision Tree Train score:  1.0\n",
      "Decision Tree Test score:  0.2533134584672483\n",
      "DT R2:  0.2533134584672483\n",
      "DT RMSE:  20.429784685923565\n",
      "DT MAE:  14.832652084942202\n"
     ]
    }
   ],
   "source": [
    "from sklearn.tree import DecisionTreeRegressor\n",
    "DT = DecisionTreeRegressor()\n",
    "DT.fit(X_train, Y_train.ravel())\n",
    "print('Decision Tree Train score: ', DT.score(X_train,Y_train))\n",
    "print('Decision Tree Test score: ', DT.score(X_test,Y_test)) \n",
    "y_pred_DT = DT.predict(X_test)\n",
    "\n",
    "print('DT R2: ', r2_score(Y_test, y_pred_DT))\n",
    "print('DT RMSE: ', sqrt(mean_squared_error(Y_test, y_pred_DT)))\n",
    "print('DT MAE: ', mean_absolute_error(Y_test, y_pred_DT))\n",
    "\n",
    "data_new['pred'] = y_pred_DT\n",
    "data_new.to_csv('DT.csv')"
   ]
  },
  {
   "cell_type": "markdown",
   "id": "521f0aab",
   "metadata": {},
   "source": [
    "# RANDOM FOREST"
   ]
  },
  {
   "cell_type": "code",
   "execution_count": 9,
   "id": "7c8953a6",
   "metadata": {},
   "outputs": [
    {
     "name": "stdout",
     "output_type": "stream",
     "text": [
      "RF Train score:  0.9418668236437204\n",
      "RF Test score:  0.5998666340528541\n",
      "RF R2:  0.5998666340528541\n",
      "RF RMSE:  14.955364813825014\n",
      "RF MAE:  11.186482409584794\n"
     ]
    }
   ],
   "source": [
    "from sklearn.ensemble import RandomForestRegressor\n",
    "RF = RandomForestRegressor()\n",
    "RF.fit(X_train, Y_train.ravel())\n",
    "print('RF Train score: ', RF.score(X_train,Y_train))\n",
    "print('RF Test score: ', RF.score(X_test,Y_test)) \n",
    "y_pred_RF = RF.predict(X_test)\n",
    "\n",
    "print('RF R2: ', r2_score(Y_test, y_pred_RF))\n",
    "print('RF RMSE: ', sqrt(mean_squared_error(Y_test, y_pred_RF)))\n",
    "print('RF MAE: ', mean_absolute_error(Y_test, y_pred_RF))\n",
    "\n",
    "data_new['pred'] = y_pred_RF\n",
    "data_new.to_csv('RF.csv')"
   ]
  },
  {
   "cell_type": "markdown",
   "id": "80a9d68a",
   "metadata": {},
   "source": [
    "# GRADIENT BOOSTING"
   ]
  },
  {
   "cell_type": "code",
   "execution_count": 10,
   "id": "c56c8a7e",
   "metadata": {},
   "outputs": [
    {
     "name": "stdout",
     "output_type": "stream",
     "text": [
      "GB Train score:  0.6382377271617767\n",
      "GB Test score:  0.6068112138631943\n",
      "GB R2:  0.6068112138631943\n",
      "GB RMSE:  14.825016633516261\n",
      "GB MAE:  11.281554312940766\n"
     ]
    }
   ],
   "source": [
    "from sklearn.ensemble import GradientBoostingRegressor\n",
    "GB = GradientBoostingRegressor()\n",
    "GB.fit(X_train, Y_train.ravel())\n",
    "print('GB Train score: ', GB.score(X_train,Y_train))\n",
    "print('GB Test score: ', GB.score(X_test,Y_test)) \n",
    "y_pred_GB = GB.predict(X_test)\n",
    "\n",
    "print('GB R2: ', r2_score(Y_test, y_pred_GB))\n",
    "print('GB RMSE: ', sqrt(mean_squared_error(Y_test, y_pred_GB)))\n",
    "print('GB MAE: ', mean_absolute_error(Y_test, y_pred_GB))\n",
    "\n",
    "data_new['pred'] = y_pred_GB\n",
    "data_new.to_csv('GB.csv')"
   ]
  },
  {
   "cell_type": "markdown",
   "id": "bf27fa86",
   "metadata": {},
   "source": [
    "# K - NEAREST NEIGHBOR"
   ]
  },
  {
   "cell_type": "code",
   "execution_count": 11,
   "id": "7304f7af",
   "metadata": {},
   "outputs": [
    {
     "name": "stdout",
     "output_type": "stream",
     "text": [
      "kNN Train score:  0.7026344022924671\n",
      "kNN Test score:  0.5654470922932394\n",
      "KNN R2:  0.5654470922932394\n",
      "KNN RMSE:  15.58532840356\n",
      "KNN MAE:  11.757401293192398\n"
     ]
    }
   ],
   "source": [
    "from sklearn.neighbors import KNeighborsRegressor\n",
    "kN = KNeighborsRegressor()\n",
    "kN.fit(X_train, Y_train.ravel())\n",
    "print('kNN Train score: ', kN.score(X_train,Y_train))\n",
    "print('kNN Test score: ', kN.score(X_test,Y_test)) \n",
    "y_pred_kN = kN.predict(X_test)\n",
    "\n",
    "print('KNN R2: ', r2_score(Y_test, y_pred_kN))\n",
    "print('KNN RMSE: ', sqrt(mean_squared_error(Y_test, y_pred_kN)))\n",
    "print('KNN MAE: ', mean_absolute_error(Y_test, y_pred_kN))\n",
    "\n",
    "data_new['pred'] = y_pred_kN\n",
    "data_new.to_csv('kN.csv')"
   ]
  },
  {
   "cell_type": "code",
   "execution_count": null,
   "id": "a632efb3",
   "metadata": {},
   "outputs": [],
   "source": []
  }
 ],
 "metadata": {
  "kernelspec": {
   "display_name": "Python 3 (ipykernel)",
   "language": "python",
   "name": "python3"
  },
  "language_info": {
   "codemirror_mode": {
    "name": "ipython",
    "version": 3
   },
   "file_extension": ".py",
   "mimetype": "text/x-python",
   "name": "python",
   "nbconvert_exporter": "python",
   "pygments_lexer": "ipython3",
   "version": "3.10.0"
  }
 },
 "nbformat": 4,
 "nbformat_minor": 5
}
